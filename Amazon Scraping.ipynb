{
    "nbformat_minor": 1, 
    "cells": [
        {
            "source": "import requests", 
            "cell_type": "code", 
            "metadata": {}, 
            "outputs": [], 
            "execution_count": 5
        }, 
        {
            "source": "\nurl='https://www.amazon.in/dp/B07FRJTZ4T/ref=GW_DB?pf_rd_p=49ee1e83-f32d-47ed-9efc-e51a2d245dc1&pf_rd_r=68Q8EQJX47576HAN2B1A'\nresponse=requests.get(url)\nresult=response.text\n##print(result)\nstart=result.find('<span id=\"productTitle\"')\nend=start+600\nraw=result[start+len('<span id=\"productTitle\"')+60:end]\nend1=raw.find('</span>')\ntitle=raw[0:end1]\nprint(title.strip())", 
            "cell_type": "code", 
            "metadata": {}, 
            "outputs": [
                {
                    "output_type": "stream", 
                    "name": "stdout", 
                    "text": "All-New Kindle (10th Gen), 6&quot; Display now with Built-in Light, 4 GB, Wi-Fi (Black)\n"
                }
            ], 
            "execution_count": 26
        }, 
        {
            "source": "", 
            "cell_type": "code", 
            "metadata": {}, 
            "outputs": [], 
            "execution_count": null
        }, 
        {
            "source": "", 
            "cell_type": "code", 
            "metadata": {}, 
            "outputs": [], 
            "execution_count": null
        }
    ], 
    "metadata": {
        "kernelspec": {
            "display_name": "Python 3.5", 
            "name": "python3", 
            "language": "python"
        }, 
        "language_info": {
            "mimetype": "text/x-python", 
            "nbconvert_exporter": "python", 
            "version": "3.5.5", 
            "name": "python", 
            "pygments_lexer": "ipython3", 
            "file_extension": ".py", 
            "codemirror_mode": {
                "version": 3, 
                "name": "ipython"
            }
        }
    }, 
    "nbformat": 4
}